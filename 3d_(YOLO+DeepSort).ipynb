{
  "cells": [
    {
      "cell_type": "code",
      "source": [
        "import torch\n",
        "import torchvision\n",
        "import cv2\n",
        "import numpy as np\n",
        "from sort.sort import *\n",
        "from deep_sort_realtime.deepsort_tracker import DeepSort"
      ],
      "metadata": {
        "id": "txLFYCrcYPEJ"
      },
      "execution_count": null,
      "outputs": []
    },
    {
      "cell_type": "code",
      "source": [
        "model = torch.hub.load('ultralytics/yolov5', 'yolov5s', pretrained=True)\n",
        "obt = DeepSort(max_iou_distance=1, max_age=200,nms_max_overlap = 5)\n",
        "pic = cv2.imread('cars.jpg')\n",
        "predictions = model(pic)\n",
        "car_predictions = predictions.pred[0][predictions.pred[0][:, 5] == 2]\n",
        "b = car_predictions[:, :4].cpu().numpy()\n",
        "c = car_predictions[:, 4].cpu().numpy()\n",
        "lbl = car_predictions[:, 5].cpu().numpy()\n",
        "for box, confidence in zip(b, c):\n",
        "    if confidence > 0.5:\n",
        "        x1, y1, x2, y2 = box.astype(int)\n",
        "        cv2.rectangle(pic, (x1, y1), (x2, y2), (0, 255, 0), 2)\n",
        "cv2.imshow('image', pic)\n",
        "cv2.waitKey(0)\n",
        "cv2.destroyAllWindows()"
      ],
      "metadata": {
        "id": "xZPrR6CAYSQ7"
      },
      "execution_count": null,
      "outputs": []
    },
    {
      "cell_type": "code",
      "source": [
        "def detect_cars(pic, model, threshold = 0.5):\n",
        "    dts = []\n",
        "    pred = model(pic)\n",
        "    car_pred = pred.pred[0][pred.pred[0][:, 5] == 2]\n",
        "    b = car_pred[:, :4].cpu().numpy()\n",
        "    c = car_pred[:, 4].cpu().numpy()\n",
        "    lbl = car_pred[:, 5].cpu().numpy()\n",
        "    for i in range(len(lbl)):\n",
        "        if(c[i] > threshold):\n",
        "            cv2.rectangle(pic, (int(b[i][0]), int(b[i][1])), (int(b[i][2]), int(b[i][3])), (0, 255, 0), 2)\n",
        "            cv2.putText(pic, \"Car\", (int(b[i][0])-10, int(b[i][1])-10), cv2.FONT_HERSHEY_SIMPLEX, 0.9, (0, 255, 0), 2)\n",
        "            dts.append((b[i], c[i]))    \n",
        "    return dts"
      ],
      "metadata": {
        "id": "XJi81MpcYhzX"
      },
      "execution_count": null,
      "outputs": []
    },
    {
      "cell_type": "code",
      "source": [
        "def update_track(tracks, count, IDs):\n",
        "    for t in tracks:\n",
        "        if not t.is_confirmed():\n",
        "            continue\n",
        "        trck = t.track_id\n",
        "        if(trck not in IDs):\n",
        "            count += 1\n",
        "            IDs.append(trck)        \n",
        "        ltrb = t.to_ltrb()\n",
        "        bbox = ltrb\n",
        "    return IDs, count"
      ],
      "metadata": {
        "id": "wHNfMT-VYkdc"
      },
      "execution_count": null,
      "outputs": []
    },
    {
      "cell_type": "code",
      "source": [
        "cap = cv2.VideoCapture('./mp4/Test.mp4')\n",
        "\n",
        "IDs = []\n",
        "count = 0 "
      ],
      "metadata": {
        "id": "AOt_ZJfYYnG2"
      },
      "execution_count": null,
      "outputs": []
    },
    {
      "cell_type": "code",
      "source": [
        "while cap.isOpened():\n",
        "    ret, frame = cap.read()\n",
        "    if not ret:\n",
        "        break\n",
        "\n",
        "    dts = detect_cars(frame, model, 0.5)\n",
        "    tracks = obt.update_tracks(dts, frame=frame)\n",
        "    IDs, count = update_track(tracks, count, IDs)\n",
        "    cv2.putText(frame, f'Count: {int(count)}', (20, 100), cv2.FONT_HERSHEY_SIMPLEX, 1.5, (0,255,0), 2)\n",
        "    cv2.imshow('result', frame)\n",
        "    if cv2.waitKey(1) & 0xFF == ord('q'):\n",
        "        break"
      ],
      "metadata": {
        "id": "zdMR9wuhYqsT"
      },
      "execution_count": null,
      "outputs": []
    },
    {
      "cell_type": "code",
      "source": [
        "cap.release()\n",
        "cv2.destroyAllWindows()"
      ],
      "metadata": {
        "id": "6RgBSyUIYs7g"
      },
      "execution_count": null,
      "outputs": []
    }
  ],
  "metadata": {
    "kernelspec": {
      "display_name": "base",
      "language": "python",
      "name": "python3"
    },
    "language_info": {
      "codemirror_mode": {
        "name": "ipython",
        "version": 3
      },
      "file_extension": ".py",
      "mimetype": "text/x-python",
      "name": "python",
      "nbconvert_exporter": "python",
      "pygments_lexer": "ipython3",
      "version": "3.9.13"
    },
    "orig_nbformat": 4,
    "colab": {
      "provenance": []
    }
  },
  "nbformat": 4,
  "nbformat_minor": 0
}