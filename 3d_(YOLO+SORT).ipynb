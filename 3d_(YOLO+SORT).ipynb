{
  "cells": [
    {
      "cell_type": "code",
      "source": [
        "import cv2\n",
        "import numpy as np\n",
        "from sort import Sort"
      ],
      "metadata": {
        "id": "iBDgFW0dTRpC"
      },
      "execution_count": null,
      "outputs": []
    },
    {
      "cell_type": "code",
      "source": [
        "net = cv2.dnn.readNetFromDarknet(\"./yolov3.cfg\", \"./yolov3.weights\")\n",
        "classes = []\n",
        "with open(\"./coco.names\", \"r\") as f:\n",
        "    classes = [line.strip() for line in f]\n",
        "\n",
        "layer_names = net.getLayerNames()\n",
        "output_layers = [layer_names[i[0] - 1] for i in net.getUnconnectedOutLayers()]"
      ],
      "metadata": {
        "id": "5ihYCK78TSay"
      },
      "execution_count": null,
      "outputs": []
    },
    {
      "cell_type": "code",
      "source": [
        "cap = cv2.VideoCapture('./Video1.mp4')\n",
        "fourcc = cv2.VideoWriter_fourcc(*'mp4v')\n",
        "out = cv2.VideoWriter(\"./output_video.mp4\", fourcc, 30.0, (int(cap.get(3)), int(cap.get(4))))\n",
        "\n",
        "CountCars = []\n",
        "tracker = Sort()\n",
        "count_car = 0"
      ],
      "metadata": {
        "id": "lJ9jSar_TUtk"
      },
      "execution_count": null,
      "outputs": []
    },
    {
      "cell_type": "code",
      "source": [
        "while True:\n",
        "    ret, frame = cap.read()\n",
        "    if not ret:\n",
        "        break\n",
        "\n",
        "    blob = cv2.dnn.blobFromImage(frame, 1/255, (416, 416), swapRB=True, crop=False)\n",
        "    net.setInput(blob)\n",
        "    outs = net.forward(output_layers)\n",
        "\n",
        "    class_ids = []\n",
        "    boxes = []\n",
        "    confidences = []\n",
        "\n",
        "    for out in outs:\n",
        "        for detection in out:\n",
        "            scores = detection[5:]\n",
        "            class_id = np.argmax(scores)\n",
        "            confidence = scores[class_id]\n",
        "            if confidence > 0.5 and class_id == 2:\n",
        "                center_x = int(detection[0] * frame.shape[1])\n",
        "                center_y = int(detection[1] * frame.shape[0])\n",
        "                left = int(center_x - width/2)\n",
        "                top = int(center_y - height/2)\n",
        "                class_ids.append(class_id)\n",
        "                confidences.append(float(confidence))\n",
        "                boxes.append([left, top, width, height])\n",
        "\n",
        "    indices = cv2.dnn.NMSBoxes(boxes, confidences, 0.5, 0.4)\n",
        "    dets = []\n",
        "\n",
        "    for i in indices:\n",
        "        box = boxes[i[0]]\n",
        "        width = box[2]\n",
        "        height = box[3]\n",
        "        left = box[0]\n",
        "        top = box[1]\n",
        "        cv2.rectangle(frame, (left, top), (left+width, top+height), (0, 255, 0), 2)\n",
        "        dets.append([left, top, left+width, top+height, confidences[i]])\n",
        "\n",
        "    dets = np.array(dets)\n",
        "\n",
        "    if dets.shape[0] > 0:\n",
        "        tracks = tracker.update(dets)\n",
        "        for track in tracks:\n",
        "            bbox = track.astype(np.int32)\n",
        "            x1, y1, x2, y2, track_id = bbox\n",
        "            if track_id not in CountCars:\n",
        "                CountCars.append(track_id)\n",
        "                count_car += 1\n",
        "\n",
        "    out.write(frame)"
      ],
      "metadata": {
        "id": "lbo8fr6ZTZCy"
      },
      "execution_count": null,
      "outputs": []
    },
    {
      "cell_type": "code",
      "source": [
        "out.release()\n",
        "cap.release()\n",
        "\n",
        "print(f\"Total count cars: {count_car}\")"
      ],
      "metadata": {
        "id": "jBKaiVXBTOlE"
      },
      "execution_count": null,
      "outputs": []
    }
  ],
  "metadata": {
    "accelerator": "GPU",
    "colab": {
      "provenance": []
    },
    "gpuClass": "standard",
    "kernelspec": {
      "display_name": "Python 3",
      "name": "python3"
    },
    "language_info": {
      "name": "python"
    }
  },
  "nbformat": 4,
  "nbformat_minor": 0
}