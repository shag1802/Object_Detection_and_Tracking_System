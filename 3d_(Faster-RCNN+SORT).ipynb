{
  "cells": [
    {
      "cell_type": "code",
      "source": [
        "import cv2\n",
        "import numpy as np\n",
        "import torch\n",
        "from torchvision.models import detection\n",
        "from sort import *\n",
        "from torchvision import transforms"
      ],
      "metadata": {
        "id": "iBDgFW0dTRpC"
      },
      "execution_count": null,
      "outputs": []
    },
    {
      "cell_type": "code",
      "source": [
        "device = torch.device(\"cuda:0\" if torch.cuda.is_available() else \"cpu\")\n",
        "model = detection.fasterrcnn_resnet50_fpn(pretrained=True, progress=True, num_classes=91, pretrained_backbone=True).to(device)\n",
        "model.eval()"
      ],
      "metadata": {
        "id": "uNbaC_SuUIrb"
      },
      "execution_count": null,
      "outputs": []
    },
    {
      "cell_type": "code",
      "source": [
        "classes = []\n",
        "with open(\"./coco.names\", \"r\") as f:\n",
        "    classes = [line.strip() for line in f.readlines()]"
      ],
      "metadata": {
        "id": "tPoY3-4gUKmm"
      },
      "execution_count": null,
      "outputs": []
    },
    {
      "cell_type": "code",
      "source": [
        "cap = cv2.VideoCapture('Video2.mp4')\n",
        "fourcc = cv2.VideoWriter_fourcc(*'mp4v')\n",
        "out1 = cv2.VideoWriter(\"./output_video.mp4\", fourcc, 30.0, (int(cap.get(3)), int(cap.get(4))))\n",
        "tracker = Sort()\n",
        "Count_Num = 0\n",
        "Count_Cars = []"
      ],
      "metadata": {
        "id": "-hLuwbOKUMaQ"
      },
      "execution_count": null,
      "outputs": []
    },
    {
      "cell_type": "code",
      "source": [
        "while True:\n",
        "    ret, frame = cap.read()\n",
        "    if not ret:\n",
        "        break\n",
        "\n",
        "    tensor = torch.from_numpy(frame).permute(2, 0, 1).float().to(device)\n",
        "    tensor /= 255.0\n",
        "    tensor = tensor.unsqueeze(0)\n",
        "    with torch.no_grad():\n",
        "        predictions = model(tensor)[0]\n",
        "        \n",
        "    boxes = predictions['boxes'].cpu().numpy()\n",
        "    scores = predictions['scores'].cpu().numpy()\n",
        "    cars_idx = np.where(predictions['labels'].cpu().numpy() == 3)[0]\n",
        "    class_ids = []\n",
        "    new_boxes = []\n",
        "    confidences = []\n",
        "    for idx in cars_idx:\n",
        "        if scores[idx] > 0.5:\n",
        "            box = boxes[idx].astype(np.int32)\n",
        "            class_ids.append(2)\n",
        "            confidences.append(float(scores[idx]))\n",
        "            new_boxes.append([box[0], box[1], box[2]-box[0], box[3]-box[1]])\n",
        "            \n",
        "    indices = cv2.dnn.NMSBoxes(new_boxes, confidences, 0.5, 0.4)\n",
        "    dets = []\n",
        "    for i in indices:\n",
        "        box = new_boxes[i]\n",
        "        width = box[2]\n",
        "        height = box[3]\n",
        "        left = box[0]\n",
        "        top = box[1]\n",
        "\n",
        "        cv2.rectangle(frame, (left, top), (left+width, top+height), (0, 255, 0), 2)\n",
        "        dets.append([left, top, left+width, top+height, confidences[\n",
        "        for track in tracks:I]])\n",
        "\n",
        "    dets = np.array(de\n",
        "            bbox = track.astype(np.int32)\n",
        "            x1, y1, x2, y2, track_id = bbox\n",
        "            if track_id not in Count_Cars:\n",
        "                Count_Cars.append(track_id)\n",
        "                Count_Num += 1\n",
        "    print(Count_Num)\n",
        "    out1.write(frame)"
      ],
      "metadata": {
        "id": "Cv9JqJ7EUPuL"
      },
      "execution_count": null,
      "outputs": []
    },
    {
      "cell_type": "code",
      "source": [
        "cap.release()\n",
        "out1.release()\n",
        "print(f\"Total car count: {Count_Num}\")ts)\n",
        "    if dets.shape[0] > 0:\n",
        "        tracks = tracker.update(dets)"
      ],
      "metadata": {
        "id": "q1YjuMgXUEwg"
      },
      "execution_count": null,
      "outputs": []
    }
  ],
  "metadata": {
    "accelerator": "GPU",
    "colab": {
      "provenance": []
    },
    "gpuClass": "standard",
    "kernelspec": {
      "display_name": "Python 3",
      "name": "python3"
    },
    "language_info": {
      "name": "python"
    }
  },
  "nbformat": 4,
  "nbformat_minor": 0
}