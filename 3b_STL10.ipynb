{
  "metadata": {
    "colab": {
      "provenance": []
    },
    "kernelspec": {
      "name": "python3",
      "display_name": "Python 3",
      "language": "python"
    },
    "language_info": {
      "name": "python",
      "version": "3.7.12",
      "mimetype": "text/x-python",
      "codemirror_mode": {
        "name": "ipython",
        "version": 3
      },
      "pygments_lexer": "ipython3",
      "nbconvert_exporter": "python",
      "file_extension": ".py"
    },
    "gpuClass": "standard",
    "accelerator": "GPU",
    "widgets": {
      "application/vnd.jupyter.widget-state+json": {
        "9b4bd15f689549239a4adee8a285eb66": {
          "model_module": "@jupyter-widgets/controls",
          "model_name": "HBoxModel",
          "model_module_version": "1.5.0",
          "state": {
            "_dom_classes": [],
            "_model_module": "@jupyter-widgets/controls",
            "_model_module_version": "1.5.0",
            "_model_name": "HBoxModel",
            "_view_count": null,
            "_view_module": "@jupyter-widgets/controls",
            "_view_module_version": "1.5.0",
            "_view_name": "HBoxView",
            "box_style": "",
            "children": [
              "IPY_MODEL_0ea69819656441f0b9a8e79af5af4ab5",
              "IPY_MODEL_c65276af8fbe49b0a37dd62588ec24cd",
              "IPY_MODEL_4def8f95620141aa8e849c2188ad0b2f"
            ],
            "layout": "IPY_MODEL_75cbd053c1484639b9835e0f92607fe9"
          }
        },
        "0ea69819656441f0b9a8e79af5af4ab5": {
          "model_module": "@jupyter-widgets/controls",
          "model_name": "HTMLModel",
          "model_module_version": "1.5.0",
          "state": {
            "_dom_classes": [],
            "_model_module": "@jupyter-widgets/controls",
            "_model_module_version": "1.5.0",
            "_model_name": "HTMLModel",
            "_view_count": null,
            "_view_module": "@jupyter-widgets/controls",
            "_view_module_version": "1.5.0",
            "_view_name": "HTMLView",
            "description": "",
            "description_tooltip": null,
            "layout": "IPY_MODEL_6d92a3e65c8d4283ad0683c55cd211c7",
            "placeholder": "​",
            "style": "IPY_MODEL_bb851fb59b624067a00b1f745a1dfc47",
            "value": " 58%"
          }
        },
        "c65276af8fbe49b0a37dd62588ec24cd": {
          "model_module": "@jupyter-widgets/controls",
          "model_name": "FloatProgressModel",
          "model_module_version": "1.5.0",
          "state": {
            "_dom_classes": [],
            "_model_module": "@jupyter-widgets/controls",
            "_model_module_version": "1.5.0",
            "_model_name": "FloatProgressModel",
            "_view_count": null,
            "_view_module": "@jupyter-widgets/controls",
            "_view_module_version": "1.5.0",
            "_view_name": "ProgressView",
            "bar_style": "",
            "description": "",
            "description_tooltip": null,
            "layout": "IPY_MODEL_6fc77fef2bf6492e8a2790643a37a607",
            "max": 2640397119,
            "min": 0,
            "orientation": "horizontal",
            "style": "IPY_MODEL_313f9eaee9e040a1a52d105037eeba45",
            "value": 1518436352
          }
        },
        "4def8f95620141aa8e849c2188ad0b2f": {
          "model_module": "@jupyter-widgets/controls",
          "model_name": "HTMLModel",
          "model_module_version": "1.5.0",
          "state": {
            "_dom_classes": [],
            "_model_module": "@jupyter-widgets/controls",
            "_model_module_version": "1.5.0",
            "_model_name": "HTMLModel",
            "_view_count": null,
            "_view_module": "@jupyter-widgets/controls",
            "_view_module_version": "1.5.0",
            "_view_name": "HTMLView",
            "description": "",
            "description_tooltip": null,
            "layout": "IPY_MODEL_47b5abaf231c4f058845d7eaac9d9b44",
            "placeholder": "​",
            "style": "IPY_MODEL_997d8c16127643ebbd428b646fbf7e49",
            "value": " 1518436352/2640397119 [02:13&lt;02:00, 9308296.90it/s]"
          }
        },
        "75cbd053c1484639b9835e0f92607fe9": {
          "model_module": "@jupyter-widgets/base",
          "model_name": "LayoutModel",
          "model_module_version": "1.2.0",
          "state": {
            "_model_module": "@jupyter-widgets/base",
            "_model_module_version": "1.2.0",
            "_model_name": "LayoutModel",
            "_view_count": null,
            "_view_module": "@jupyter-widgets/base",
            "_view_module_version": "1.2.0",
            "_view_name": "LayoutView",
            "align_content": null,
            "align_items": null,
            "align_self": null,
            "border": null,
            "bottom": null,
            "display": null,
            "flex": null,
            "flex_flow": null,
            "grid_area": null,
            "grid_auto_columns": null,
            "grid_auto_flow": null,
            "grid_auto_rows": null,
            "grid_column": null,
            "grid_gap": null,
            "grid_row": null,
            "grid_template_areas": null,
            "grid_template_columns": null,
            "grid_template_rows": null,
            "height": null,
            "justify_content": null,
            "justify_items": null,
            "left": null,
            "margin": null,
            "max_height": null,
            "max_width": null,
            "min_height": null,
            "min_width": null,
            "object_fit": null,
            "object_position": null,
            "order": null,
            "overflow": null,
            "overflow_x": null,
            "overflow_y": null,
            "padding": null,
            "right": null,
            "top": null,
            "visibility": null,
            "width": null
          }
        },
        "6d92a3e65c8d4283ad0683c55cd211c7": {
          "model_module": "@jupyter-widgets/base",
          "model_name": "LayoutModel",
          "model_module_version": "1.2.0",
          "state": {
            "_model_module": "@jupyter-widgets/base",
            "_model_module_version": "1.2.0",
            "_model_name": "LayoutModel",
            "_view_count": null,
            "_view_module": "@jupyter-widgets/base",
            "_view_module_version": "1.2.0",
            "_view_name": "LayoutView",
            "align_content": null,
            "align_items": null,
            "align_self": null,
            "border": null,
            "bottom": null,
            "display": null,
            "flex": null,
            "flex_flow": null,
            "grid_area": null,
            "grid_auto_columns": null,
            "grid_auto_flow": null,
            "grid_auto_rows": null,
            "grid_column": null,
            "grid_gap": null,
            "grid_row": null,
            "grid_template_areas": null,
            "grid_template_columns": null,
            "grid_template_rows": null,
            "height": null,
            "justify_content": null,
            "justify_items": null,
            "left": null,
            "margin": null,
            "max_height": null,
            "max_width": null,
            "min_height": null,
            "min_width": null,
            "object_fit": null,
            "object_position": null,
            "order": null,
            "overflow": null,
            "overflow_x": null,
            "overflow_y": null,
            "padding": null,
            "right": null,
            "top": null,
            "visibility": null,
            "width": null
          }
        },
        "bb851fb59b624067a00b1f745a1dfc47": {
          "model_module": "@jupyter-widgets/controls",
          "model_name": "DescriptionStyleModel",
          "model_module_version": "1.5.0",
          "state": {
            "_model_module": "@jupyter-widgets/controls",
            "_model_module_version": "1.5.0",
            "_model_name": "DescriptionStyleModel",
            "_view_count": null,
            "_view_module": "@jupyter-widgets/base",
            "_view_module_version": "1.2.0",
            "_view_name": "StyleView",
            "description_width": ""
          }
        },
        "6fc77fef2bf6492e8a2790643a37a607": {
          "model_module": "@jupyter-widgets/base",
          "model_name": "LayoutModel",
          "model_module_version": "1.2.0",
          "state": {
            "_model_module": "@jupyter-widgets/base",
            "_model_module_version": "1.2.0",
            "_model_name": "LayoutModel",
            "_view_count": null,
            "_view_module": "@jupyter-widgets/base",
            "_view_module_version": "1.2.0",
            "_view_name": "LayoutView",
            "align_content": null,
            "align_items": null,
            "align_self": null,
            "border": null,
            "bottom": null,
            "display": null,
            "flex": null,
            "flex_flow": null,
            "grid_area": null,
            "grid_auto_columns": null,
            "grid_auto_flow": null,
            "grid_auto_rows": null,
            "grid_column": null,
            "grid_gap": null,
            "grid_row": null,
            "grid_template_areas": null,
            "grid_template_columns": null,
            "grid_template_rows": null,
            "height": null,
            "justify_content": null,
            "justify_items": null,
            "left": null,
            "margin": null,
            "max_height": null,
            "max_width": null,
            "min_height": null,
            "min_width": null,
            "object_fit": null,
            "object_position": null,
            "order": null,
            "overflow": null,
            "overflow_x": null,
            "overflow_y": null,
            "padding": null,
            "right": null,
            "top": null,
            "visibility": null,
            "width": null
          }
        },
        "313f9eaee9e040a1a52d105037eeba45": {
          "model_module": "@jupyter-widgets/controls",
          "model_name": "ProgressStyleModel",
          "model_module_version": "1.5.0",
          "state": {
            "_model_module": "@jupyter-widgets/controls",
            "_model_module_version": "1.5.0",
            "_model_name": "ProgressStyleModel",
            "_view_count": null,
            "_view_module": "@jupyter-widgets/base",
            "_view_module_version": "1.2.0",
            "_view_name": "StyleView",
            "bar_color": null,
            "description_width": ""
          }
        },
        "47b5abaf231c4f058845d7eaac9d9b44": {
          "model_module": "@jupyter-widgets/base",
          "model_name": "LayoutModel",
          "model_module_version": "1.2.0",
          "state": {
            "_model_module": "@jupyter-widgets/base",
            "_model_module_version": "1.2.0",
            "_model_name": "LayoutModel",
            "_view_count": null,
            "_view_module": "@jupyter-widgets/base",
            "_view_module_version": "1.2.0",
            "_view_name": "LayoutView",
            "align_content": null,
            "align_items": null,
            "align_self": null,
            "border": null,
            "bottom": null,
            "display": null,
            "flex": null,
            "flex_flow": null,
            "grid_area": null,
            "grid_auto_columns": null,
            "grid_auto_flow": null,
            "grid_auto_rows": null,
            "grid_column": null,
            "grid_gap": null,
            "grid_row": null,
            "grid_template_areas": null,
            "grid_template_columns": null,
            "grid_template_rows": null,
            "height": null,
            "justify_content": null,
            "justify_items": null,
            "left": null,
            "margin": null,
            "max_height": null,
            "max_width": null,
            "min_height": null,
            "min_width": null,
            "object_fit": null,
            "object_position": null,
            "order": null,
            "overflow": null,
            "overflow_x": null,
            "overflow_y": null,
            "padding": null,
            "right": null,
            "top": null,
            "visibility": null,
            "width": null
          }
        },
        "997d8c16127643ebbd428b646fbf7e49": {
          "model_module": "@jupyter-widgets/controls",
          "model_name": "DescriptionStyleModel",
          "model_module_version": "1.5.0",
          "state": {
            "_model_module": "@jupyter-widgets/controls",
            "_model_module_version": "1.5.0",
            "_model_name": "DescriptionStyleModel",
            "_view_count": null,
            "_view_module": "@jupyter-widgets/base",
            "_view_module_version": "1.2.0",
            "_view_name": "StyleView",
            "description_width": ""
          }
        }
      }
    }
  },
  "nbformat_minor": 0,
  "nbformat": 4,
  "cells": [
    {
      "cell_type": "code",
      "source": [
        "!pip3 install --upgrade alexnet_pytorch"
      ],
      "metadata": {
        "id": "MGUte1MsDqWH",
        "execution": {
          "iopub.status.busy": "2023-03-12T18:42:09.113358Z",
          "iopub.execute_input": "2023-03-12T18:42:09.114200Z",
          "iopub.status.idle": "2023-03-12T18:42:22.383201Z",
          "shell.execute_reply.started": "2023-03-12T18:42:09.114147Z",
          "shell.execute_reply": "2023-03-12T18:42:22.381795Z"
        },
        "trusted": true,
        "colab": {
          "base_uri": "https://localhost:8080/"
        },
        "outputId": "56676969-a28d-40cf-81ec-c14017c97825"
      },
      "execution_count": 1,
      "outputs": [
        {
          "output_type": "stream",
          "name": "stdout",
          "text": [
            "Looking in indexes: https://pypi.org/simple, https://us-python.pkg.dev/colab-wheels/public/simple/\n",
            "Collecting alexnet_pytorch\n",
            "  Downloading alexnet_pytorch-0.2.0-py2.py3-none-any.whl (13 kB)\n",
            "Requirement already satisfied: torch in /usr/local/lib/python3.9/dist-packages (from alexnet_pytorch) (1.13.1+cu116)\n",
            "Requirement already satisfied: typing-extensions in /usr/local/lib/python3.9/dist-packages (from torch->alexnet_pytorch) (4.5.0)\n",
            "Installing collected packages: alexnet_pytorch\n",
            "Successfully installed alexnet_pytorch-0.2.0\n"
          ]
        }
      ]
    },
    {
      "cell_type": "code",
      "source": [
        "import torch \n",
        "import torchvision\n",
        "import torchvision.transforms as transforms\n",
        "import torch.nn as nn\n",
        "import torch.nn.functional as F\n",
        "import torch.optim as optim\n",
        "import time\n",
        "from alexnet_pytorch import AlexNet\n",
        "import torch.optim as optim"
      ],
      "metadata": {
        "id": "J84qP7Bj08Pf",
        "execution": {
          "iopub.status.busy": "2023-03-12T19:49:03.837519Z",
          "iopub.execute_input": "2023-03-12T19:49:03.838113Z",
          "iopub.status.idle": "2023-03-12T19:49:03.844464Z",
          "shell.execute_reply.started": "2023-03-12T19:49:03.838059Z",
          "shell.execute_reply": "2023-03-12T19:49:03.843372Z"
        },
        "trusted": true
      },
      "execution_count": 2,
      "outputs": []
    },
    {
      "cell_type": "code",
      "source": [
        "torch.manual_seed(0)\n"
      ],
      "metadata": {
        "colab": {
          "base_uri": "https://localhost:8080/"
        },
        "id": "-HaIZEno1BSL",
        "outputId": "3207ae05-38e4-4626-d102-bc622d9a5673",
        "execution": {
          "iopub.status.busy": "2023-03-12T19:49:03.846892Z",
          "iopub.execute_input": "2023-03-12T19:49:03.847884Z",
          "iopub.status.idle": "2023-03-12T19:49:03.860463Z",
          "shell.execute_reply.started": "2023-03-12T19:49:03.847826Z",
          "shell.execute_reply": "2023-03-12T19:49:03.858897Z"
        },
        "trusted": true
      },
      "execution_count": 3,
      "outputs": [
        {
          "output_type": "execute_result",
          "data": {
            "text/plain": [
              "<torch._C.Generator at 0x7f23e8ba0690>"
            ]
          },
          "metadata": {},
          "execution_count": 3
        }
      ]
    },
    {
      "cell_type": "code",
      "source": [
        "transform = transforms.Compose([transforms.ToTensor(),transforms.Normalize((0.485, 0.456, 0.406), (0.229, 0.224, 0.225))])\n",
        "\n",
        "trainset = torchvision.datasets.STL10(root=\"./data\",split='train',transform=transform,download=True)\n",
        "\n",
        "\n",
        "\n",
        "testset = torchvision.datasets.STL10(root='./data', split='test',download=True, transform=transform)\n"
      ],
      "metadata": {
        "colab": {
          "base_uri": "https://localhost:8080/",
          "height": 88,
          "referenced_widgets": [
            "9b4bd15f689549239a4adee8a285eb66",
            "0ea69819656441f0b9a8e79af5af4ab5",
            "c65276af8fbe49b0a37dd62588ec24cd",
            "4def8f95620141aa8e849c2188ad0b2f",
            "75cbd053c1484639b9835e0f92607fe9",
            "6d92a3e65c8d4283ad0683c55cd211c7",
            "bb851fb59b624067a00b1f745a1dfc47",
            "6fc77fef2bf6492e8a2790643a37a607",
            "313f9eaee9e040a1a52d105037eeba45",
            "47b5abaf231c4f058845d7eaac9d9b44",
            "997d8c16127643ebbd428b646fbf7e49"
          ]
        },
        "id": "IQykzgqx7_FG",
        "outputId": "1787b339-4101-4928-f360-74fa8b237c5d",
        "execution": {
          "iopub.status.busy": "2023-03-12T19:49:03.862405Z",
          "iopub.execute_input": "2023-03-12T19:49:03.862900Z",
          "iopub.status.idle": "2023-03-12T19:49:51.943099Z",
          "shell.execute_reply.started": "2023-03-12T19:49:03.862851Z",
          "shell.execute_reply": "2023-03-12T19:49:51.936204Z"
        },
        "trusted": true
      },
      "execution_count": null,
      "outputs": [
        {
          "output_type": "stream",
          "name": "stdout",
          "text": [
            "Downloading http://ai.stanford.edu/~acoates/stl10/stl10_binary.tar.gz to ./data/stl10_binary.tar.gz\n"
          ]
        },
        {
          "output_type": "display_data",
          "data": {
            "text/plain": [
              "  0%|          | 0/2640397119 [00:00<?, ?it/s]"
            ],
            "application/vnd.jupyter.widget-view+json": {
              "version_major": 2,
              "version_minor": 0,
              "model_id": "9b4bd15f689549239a4adee8a285eb66"
            }
          },
          "metadata": {}
        }
      ]
    },
    {
      "cell_type": "code",
      "source": [
        "trainloader = torch.utils.data.DataLoader(trainset, batch_size=8,shuffle=True, num_workers=2)\n",
        "testloader = torch.utils.data.DataLoader(testset, batch_size=8,shuffle=False, num_workers=2)\n",
        "classes = ('airplane', 'bird', 'car', 'cat', 'deer', 'dog', 'horse', 'monkey', 'ship', 'truck')"
      ],
      "metadata": {
        "id": "LWi9RPP7YyVg"
      },
      "execution_count": null,
      "outputs": []
    },
    {
      "cell_type": "code",
      "source": [
        "AlexNet_model = torch.hub.load('pytorch/vision:v0.6.0', 'alexnet', pretrained=True)"
      ],
      "metadata": {
        "id": "DleVeKLERVas",
        "execution": {
          "iopub.status.busy": "2023-03-12T21:37:11.110529Z",
          "iopub.execute_input": "2023-03-12T21:37:11.112084Z",
          "iopub.status.idle": "2023-03-12T21:37:12.047708Z",
          "shell.execute_reply.started": "2023-03-12T21:37:11.112032Z",
          "shell.execute_reply": "2023-03-12T21:37:12.046088Z"
        },
        "trusted": true
      },
      "execution_count": null,
      "outputs": []
    },
    {
      "cell_type": "code",
      "source": [
        "AlexNet_model.eval()"
      ],
      "metadata": {
        "execution": {
          "iopub.status.busy": "2023-03-12T21:37:12.050237Z",
          "iopub.execute_input": "2023-03-12T21:37:12.050761Z",
          "iopub.status.idle": "2023-03-12T21:37:12.059180Z",
          "shell.execute_reply.started": "2023-03-12T21:37:12.050688Z",
          "shell.execute_reply": "2023-03-12T21:37:12.057884Z"
        },
        "trusted": true,
        "id": "SWB3Zdb-U8tV"
      },
      "execution_count": null,
      "outputs": []
    },
    {
      "cell_type": "code",
      "source": [
        "AlexNet_model.classifier[4] = nn.Linear(4096,1024)\n",
        "AlexNet_model.classifier[6] = nn.Linear(1024,10)"
      ],
      "metadata": {
        "id": "oUFXkHSrRVRx",
        "execution": {
          "iopub.status.busy": "2023-03-12T21:37:12.061476Z",
          "iopub.execute_input": "2023-03-12T21:37:12.062335Z",
          "iopub.status.idle": "2023-03-12T21:37:12.118007Z",
          "shell.execute_reply.started": "2023-03-12T21:37:12.062293Z",
          "shell.execute_reply": "2023-03-12T21:37:12.116809Z"
        },
        "trusted": true
      },
      "execution_count": null,
      "outputs": []
    },
    {
      "cell_type": "code",
      "source": [
        "AlexNet_model.eval()"
      ],
      "metadata": {
        "execution": {
          "iopub.status.busy": "2023-03-12T21:37:12.120783Z",
          "iopub.execute_input": "2023-03-12T21:37:12.122076Z",
          "iopub.status.idle": "2023-03-12T21:37:12.129967Z",
          "shell.execute_reply.started": "2023-03-12T21:37:12.122028Z",
          "shell.execute_reply": "2023-03-12T21:37:12.128799Z"
        },
        "trusted": true,
        "id": "mKtBXL0sU8tW"
      },
      "execution_count": null,
      "outputs": []
    },
    {
      "cell_type": "code",
      "source": [
        "import torch.optim as optim\n",
        "\n",
        "criterion = nn.CrossEntropyLoss()\n",
        "optimizer = optim.SGD(AlexNet_model.parameters(), lr=0.0009,momentum=0.85)\n",
        "device = torch.device(\"cuda:0\" if torch.cuda.is_available() else \"cpu\")"
      ],
      "metadata": {
        "id": "y1jtdARYRVIt",
        "execution": {
          "iopub.status.busy": "2023-03-12T21:37:12.131914Z",
          "iopub.execute_input": "2023-03-12T21:37:12.132239Z",
          "iopub.status.idle": "2023-03-12T21:37:12.157813Z",
          "shell.execute_reply.started": "2023-03-12T21:37:12.132207Z",
          "shell.execute_reply": "2023-03-12T21:37:12.156355Z"
        },
        "trusted": true
      },
      "execution_count": null,
      "outputs": []
    },
    {
      "cell_type": "code",
      "source": [
        "AlexNet_model.to(device)\n",
        "criterion.to(device)"
      ],
      "metadata": {
        "id": "yVsBKmvHZMbv"
      },
      "execution_count": null,
      "outputs": []
    },
    {
      "cell_type": "code",
      "source": [
        "# i, data in enumerate(trainloader,0)\n",
        "# print((i))"
      ],
      "metadata": {
        "id": "OsrKpx-4b4-M"
      },
      "execution_count": null,
      "outputs": []
    },
    {
      "cell_type": "code",
      "source": [
        "start_time = time.time()\n",
        "for epoch in range(10):  # loop over the dataset multiple times\n",
        "\n",
        "    running_loss = 0.0\n",
        "    for i, data in enumerate(trainloader, 0):\n",
        "        # get the inputs; data is a list of [inputs, labels]\n",
        "        inputs, labels = data[0].to(device), data[1].to(device)\n",
        "\n",
        "        # zero the parameter gradients\n",
        "        optimizer.zero_grad()\n",
        "\n",
        "        # forward + backward + optimize\n",
        "        outputs = AlexNet_model(inputs)\n",
        "        loss = criterion(outputs, labels)\n",
        "        loss.backward()\n",
        "        optimizer.step()\n",
        "\n",
        "        # print statistics\n",
        "        running_loss += loss.item()\n",
        "        if i % 312 == 311:    # print every 1000 mini-batches\n",
        "            print('[%d, %5d] loss: %.3f' %\n",
        "                  (epoch + 1, i + 1, running_loss / 312))\n",
        "            # print(loss.item())\n",
        "            running_loss = 0.0\n",
        "\n",
        "print('Finished Training')\n",
        "print(\"Time taken to train is %s seconds\" % (time.time() - start_time))"
      ],
      "metadata": {
        "id": "bn9rIqCyRU_N",
        "execution": {
          "iopub.status.busy": "2023-03-12T21:37:12.159636Z",
          "iopub.execute_input": "2023-03-12T21:37:12.160065Z"
        },
        "trusted": true
      },
      "execution_count": null,
      "outputs": []
    },
    {
      "cell_type": "code",
      "source": [
        "correct = 0\n",
        "total = 0\n",
        "with torch.no_grad():\n",
        "    for data in testloader:\n",
        "        images, labels = data\n",
        "        images,labels = images.to(device),labels.to(device)\n",
        "        outputs = AlexNet_model(images)\n",
        "        _, predicted = torch.max(outputs.data, 1)\n",
        "        total += labels.size(0)\n",
        "        correct += (predicted == labels).sum().item()\n",
        "\n",
        "print('Accuracy of the network on the 10000 test images: %d %%' % (\n",
        "    100 * correct / total))"
      ],
      "metadata": {
        "id": "RFxDqHjPRDpi",
        "trusted": true
      },
      "execution_count": null,
      "outputs": []
    },
    {
      "cell_type": "code",
      "source": [
        "\n",
        "def make_data(dataloader):\n",
        "    train_features,train_labels = [],[]\n",
        "    with torch.no_grad():\n",
        "        for data in dataloader:\n",
        "            images, labels = data\n",
        "            images,labels = images.to(device),labels.to(device)\n",
        "            output = AlexNet_model(images)\n",
        "            train_features.extend(output)\n",
        "            train_labels.extend(labels)\n",
        "    return train_features,train_labels"
      ],
      "metadata": {
        "trusted": true,
        "id": "-2Uze0_hU8tY"
      },
      "execution_count": null,
      "outputs": []
    },
    {
      "cell_type": "code",
      "source": [
        "train_features,train_labels = make_data(trainloader)"
      ],
      "metadata": {
        "trusted": true,
        "id": "y41CX0Q6U8tY"
      },
      "execution_count": null,
      "outputs": []
    },
    {
      "cell_type": "code",
      "source": [
        "test_features,test_labels = make_data(testloader)"
      ],
      "metadata": {
        "trusted": true,
        "id": "BKjLjsoiU8tY"
      },
      "execution_count": null,
      "outputs": []
    },
    {
      "cell_type": "code",
      "source": [
        "AlexNet_model=torch.nn.Sequential(AlexNet_model)\n",
        "AlexNet_model=AlexNet_model[:-1]"
      ],
      "metadata": {
        "trusted": true,
        "id": "XlD_2BCqU8tY"
      },
      "execution_count": null,
      "outputs": []
    },
    {
      "cell_type": "code",
      "source": [
        "device1=torch.device('cpu')\n",
        "training_data = [t.to(device1).numpy() for t in train_features]\n",
        "labels = [t.to(device1).numpy() for t in train_labels]\n",
        "testing_data = [t.to(device1).numpy() for t in train_features]\n",
        "test_labels = [t.to(device1).numpy() for t in train_labels]"
      ],
      "metadata": {
        "trusted": true,
        "id": "ZDAcO_szU8tZ"
      },
      "execution_count": null,
      "outputs": []
    },
    {
      "cell_type": "code",
      "source": [
        "import pandas as pd\n",
        "training_data,labels = pd.DataFrame(training_data),pd.DataFrame(labels)\n",
        "testing_data,testing_labels = pd.DataFrame(testing_data),pd.DataFrame(test_labels)"
      ],
      "metadata": {
        "trusted": true,
        "id": "XFsP0sbsU8tZ"
      },
      "execution_count": null,
      "outputs": []
    },
    {
      "cell_type": "code",
      "source": [
        "train = pd.concat([training_data,testing_data])\n",
        "y = pd.concat([labels,testing_labels])"
      ],
      "metadata": {
        "trusted": true,
        "id": "CjSlWWtQU8tZ"
      },
      "execution_count": null,
      "outputs": []
    },
    {
      "cell_type": "code",
      "source": [
        "from sklearn.model_selection import train_test_split\n",
        "\n",
        "X_train,X_test,y_train,y_test = train_test_split(train,y,shuffle=True,random_state=2021,test_size=0.1)"
      ],
      "metadata": {
        "trusted": true,
        "id": "OOupUj3LU8tZ"
      },
      "execution_count": null,
      "outputs": []
    },
    {
      "cell_type": "code",
      "source": [
        "from sklearn.svm import SVC\n",
        "\n",
        "svc = SVC(kernel='linear')\n",
        "svc.fit(X_train,y_train)"
      ],
      "metadata": {
        "trusted": true,
        "id": "xGLP0hWPU8tZ"
      },
      "execution_count": null,
      "outputs": []
    },
    {
      "cell_type": "code",
      "source": [
        "from sklearn.metrics import accuracy_score\n",
        "\n",
        "y_pred = svc.predict(X_test)\n",
        "print(accuracy_score(y_test,y_pred))"
      ],
      "metadata": {
        "trusted": true,
        "id": "98b-XjsDU8tZ"
      },
      "execution_count": null,
      "outputs": []
    },
    {
      "cell_type": "code",
      "source": [
        "from sklearn.linear_model import LogisticRegression\n",
        "\n",
        "lr = LogisticRegression(max_iter = 1000,l1_ratio=0)\n",
        "lr.fit(X_train,y_train)"
      ],
      "metadata": {
        "execution": {
          "iopub.status.busy": "2023-03-13T09:33:52.741594Z",
          "iopub.execute_input": "2023-03-13T09:33:52.742295Z",
          "iopub.status.idle": "2023-03-13T09:33:54.008156Z",
          "shell.execute_reply.started": "2023-03-13T09:33:52.742262Z",
          "shell.execute_reply": "2023-03-13T09:33:54.006267Z"
        },
        "trusted": true,
        "id": "bTFZPylzU8ta"
      },
      "execution_count": null,
      "outputs": []
    },
    {
      "cell_type": "code",
      "source": [
        "from sklearn.metrics import accuracy_score\n",
        "\n",
        "y_pred = lr.predict(X_test)\n",
        "print(accuracy_score(y_test,y_pred))"
      ],
      "metadata": {
        "id": "rLPg1QGeU8ta"
      },
      "execution_count": null,
      "outputs": []
    }
  ]
}